{
 "cells": [
  {
   "cell_type": "code",
   "execution_count": 48,
   "metadata": {},
   "outputs": [],
   "source": [
    "import numpy as np\n",
    "import pandas as pd"
   ]
  },
  {
   "cell_type": "code",
   "execution_count": 49,
   "metadata": {
    "scrolled": false
   },
   "outputs": [
    {
     "data": {
      "text/html": [
       "<div>\n",
       "<style scoped>\n",
       "    .dataframe tbody tr th:only-of-type {\n",
       "        vertical-align: middle;\n",
       "    }\n",
       "\n",
       "    .dataframe tbody tr th {\n",
       "        vertical-align: top;\n",
       "    }\n",
       "\n",
       "    .dataframe thead th {\n",
       "        text-align: right;\n",
       "    }\n",
       "</style>\n",
       "<table border=\"1\" class=\"dataframe\">\n",
       "  <thead>\n",
       "    <tr style=\"text-align: right;\">\n",
       "      <th></th>\n",
       "      <th>mid</th>\n",
       "      <th>date</th>\n",
       "      <th>venue</th>\n",
       "      <th>bat_team</th>\n",
       "      <th>bowl_team</th>\n",
       "      <th>batsman</th>\n",
       "      <th>bowler</th>\n",
       "      <th>runs</th>\n",
       "      <th>wickets</th>\n",
       "      <th>overs</th>\n",
       "      <th>runs_last_5</th>\n",
       "      <th>wickets_last_5</th>\n",
       "      <th>striker</th>\n",
       "      <th>non-striker</th>\n",
       "      <th>total</th>\n",
       "    </tr>\n",
       "  </thead>\n",
       "  <tbody>\n",
       "    <tr>\n",
       "      <th>0</th>\n",
       "      <td>1</td>\n",
       "      <td>2006-06-13</td>\n",
       "      <td>Civil Service Cricket Club, Stormont</td>\n",
       "      <td>England</td>\n",
       "      <td>Ireland</td>\n",
       "      <td>ME Trescothick</td>\n",
       "      <td>DT Johnston</td>\n",
       "      <td>0</td>\n",
       "      <td>0</td>\n",
       "      <td>0.1</td>\n",
       "      <td>0</td>\n",
       "      <td>0</td>\n",
       "      <td>0</td>\n",
       "      <td>0</td>\n",
       "      <td>301</td>\n",
       "    </tr>\n",
       "    <tr>\n",
       "      <th>1</th>\n",
       "      <td>1</td>\n",
       "      <td>2006-06-13</td>\n",
       "      <td>Civil Service Cricket Club, Stormont</td>\n",
       "      <td>England</td>\n",
       "      <td>Ireland</td>\n",
       "      <td>ME Trescothick</td>\n",
       "      <td>DT Johnston</td>\n",
       "      <td>0</td>\n",
       "      <td>0</td>\n",
       "      <td>0.2</td>\n",
       "      <td>0</td>\n",
       "      <td>0</td>\n",
       "      <td>0</td>\n",
       "      <td>0</td>\n",
       "      <td>301</td>\n",
       "    </tr>\n",
       "    <tr>\n",
       "      <th>2</th>\n",
       "      <td>1</td>\n",
       "      <td>2006-06-13</td>\n",
       "      <td>Civil Service Cricket Club, Stormont</td>\n",
       "      <td>England</td>\n",
       "      <td>Ireland</td>\n",
       "      <td>ME Trescothick</td>\n",
       "      <td>DT Johnston</td>\n",
       "      <td>4</td>\n",
       "      <td>0</td>\n",
       "      <td>0.3</td>\n",
       "      <td>4</td>\n",
       "      <td>0</td>\n",
       "      <td>0</td>\n",
       "      <td>0</td>\n",
       "      <td>301</td>\n",
       "    </tr>\n",
       "    <tr>\n",
       "      <th>3</th>\n",
       "      <td>1</td>\n",
       "      <td>2006-06-13</td>\n",
       "      <td>Civil Service Cricket Club, Stormont</td>\n",
       "      <td>England</td>\n",
       "      <td>Ireland</td>\n",
       "      <td>ME Trescothick</td>\n",
       "      <td>DT Johnston</td>\n",
       "      <td>6</td>\n",
       "      <td>0</td>\n",
       "      <td>0.4</td>\n",
       "      <td>6</td>\n",
       "      <td>0</td>\n",
       "      <td>0</td>\n",
       "      <td>0</td>\n",
       "      <td>301</td>\n",
       "    </tr>\n",
       "    <tr>\n",
       "      <th>4</th>\n",
       "      <td>1</td>\n",
       "      <td>2006-06-13</td>\n",
       "      <td>Civil Service Cricket Club, Stormont</td>\n",
       "      <td>England</td>\n",
       "      <td>Ireland</td>\n",
       "      <td>ME Trescothick</td>\n",
       "      <td>DT Johnston</td>\n",
       "      <td>6</td>\n",
       "      <td>0</td>\n",
       "      <td>0.5</td>\n",
       "      <td>6</td>\n",
       "      <td>0</td>\n",
       "      <td>0</td>\n",
       "      <td>0</td>\n",
       "      <td>301</td>\n",
       "    </tr>\n",
       "    <tr>\n",
       "      <th>...</th>\n",
       "      <td>...</td>\n",
       "      <td>...</td>\n",
       "      <td>...</td>\n",
       "      <td>...</td>\n",
       "      <td>...</td>\n",
       "      <td>...</td>\n",
       "      <td>...</td>\n",
       "      <td>...</td>\n",
       "      <td>...</td>\n",
       "      <td>...</td>\n",
       "      <td>...</td>\n",
       "      <td>...</td>\n",
       "      <td>...</td>\n",
       "      <td>...</td>\n",
       "      <td>...</td>\n",
       "    </tr>\n",
       "    <tr>\n",
       "      <th>350894</th>\n",
       "      <td>1188</td>\n",
       "      <td>2017-07-10</td>\n",
       "      <td>Mahinda Rajapaksa International Cricket Stadiu...</td>\n",
       "      <td>Sri Lanka</td>\n",
       "      <td>Zimbabwe</td>\n",
       "      <td>DAS Gunaratne</td>\n",
       "      <td>TL Chatara</td>\n",
       "      <td>201</td>\n",
       "      <td>8</td>\n",
       "      <td>49.2</td>\n",
       "      <td>39</td>\n",
       "      <td>0</td>\n",
       "      <td>59</td>\n",
       "      <td>18</td>\n",
       "      <td>203</td>\n",
       "    </tr>\n",
       "    <tr>\n",
       "      <th>350895</th>\n",
       "      <td>1188</td>\n",
       "      <td>2017-07-10</td>\n",
       "      <td>Mahinda Rajapaksa International Cricket Stadiu...</td>\n",
       "      <td>Sri Lanka</td>\n",
       "      <td>Zimbabwe</td>\n",
       "      <td>DAS Gunaratne</td>\n",
       "      <td>TL Chatara</td>\n",
       "      <td>201</td>\n",
       "      <td>8</td>\n",
       "      <td>49.3</td>\n",
       "      <td>39</td>\n",
       "      <td>0</td>\n",
       "      <td>59</td>\n",
       "      <td>18</td>\n",
       "      <td>203</td>\n",
       "    </tr>\n",
       "    <tr>\n",
       "      <th>350896</th>\n",
       "      <td>1188</td>\n",
       "      <td>2017-07-10</td>\n",
       "      <td>Mahinda Rajapaksa International Cricket Stadiu...</td>\n",
       "      <td>Sri Lanka</td>\n",
       "      <td>Zimbabwe</td>\n",
       "      <td>DAS Gunaratne</td>\n",
       "      <td>TL Chatara</td>\n",
       "      <td>201</td>\n",
       "      <td>8</td>\n",
       "      <td>49.4</td>\n",
       "      <td>38</td>\n",
       "      <td>0</td>\n",
       "      <td>59</td>\n",
       "      <td>18</td>\n",
       "      <td>203</td>\n",
       "    </tr>\n",
       "    <tr>\n",
       "      <th>350897</th>\n",
       "      <td>1188</td>\n",
       "      <td>2017-07-10</td>\n",
       "      <td>Mahinda Rajapaksa International Cricket Stadiu...</td>\n",
       "      <td>Sri Lanka</td>\n",
       "      <td>Zimbabwe</td>\n",
       "      <td>DAS Gunaratne</td>\n",
       "      <td>TL Chatara</td>\n",
       "      <td>202</td>\n",
       "      <td>8</td>\n",
       "      <td>49.5</td>\n",
       "      <td>38</td>\n",
       "      <td>0</td>\n",
       "      <td>59</td>\n",
       "      <td>18</td>\n",
       "      <td>203</td>\n",
       "    </tr>\n",
       "    <tr>\n",
       "      <th>350898</th>\n",
       "      <td>1188</td>\n",
       "      <td>2017-07-10</td>\n",
       "      <td>Mahinda Rajapaksa International Cricket Stadiu...</td>\n",
       "      <td>Sri Lanka</td>\n",
       "      <td>Zimbabwe</td>\n",
       "      <td>PVD Chameera</td>\n",
       "      <td>TL Chatara</td>\n",
       "      <td>203</td>\n",
       "      <td>8</td>\n",
       "      <td>49.6</td>\n",
       "      <td>38</td>\n",
       "      <td>0</td>\n",
       "      <td>59</td>\n",
       "      <td>18</td>\n",
       "      <td>203</td>\n",
       "    </tr>\n",
       "  </tbody>\n",
       "</table>\n",
       "<p>350899 rows × 15 columns</p>\n",
       "</div>"
      ],
      "text/plain": [
       "         mid        date                                              venue  \\\n",
       "0          1  2006-06-13               Civil Service Cricket Club, Stormont   \n",
       "1          1  2006-06-13               Civil Service Cricket Club, Stormont   \n",
       "2          1  2006-06-13               Civil Service Cricket Club, Stormont   \n",
       "3          1  2006-06-13               Civil Service Cricket Club, Stormont   \n",
       "4          1  2006-06-13               Civil Service Cricket Club, Stormont   \n",
       "...      ...         ...                                                ...   \n",
       "350894  1188  2017-07-10  Mahinda Rajapaksa International Cricket Stadiu...   \n",
       "350895  1188  2017-07-10  Mahinda Rajapaksa International Cricket Stadiu...   \n",
       "350896  1188  2017-07-10  Mahinda Rajapaksa International Cricket Stadiu...   \n",
       "350897  1188  2017-07-10  Mahinda Rajapaksa International Cricket Stadiu...   \n",
       "350898  1188  2017-07-10  Mahinda Rajapaksa International Cricket Stadiu...   \n",
       "\n",
       "         bat_team bowl_team         batsman       bowler  runs  wickets  \\\n",
       "0         England   Ireland  ME Trescothick  DT Johnston     0        0   \n",
       "1         England   Ireland  ME Trescothick  DT Johnston     0        0   \n",
       "2         England   Ireland  ME Trescothick  DT Johnston     4        0   \n",
       "3         England   Ireland  ME Trescothick  DT Johnston     6        0   \n",
       "4         England   Ireland  ME Trescothick  DT Johnston     6        0   \n",
       "...           ...       ...             ...          ...   ...      ...   \n",
       "350894  Sri Lanka  Zimbabwe   DAS Gunaratne   TL Chatara   201        8   \n",
       "350895  Sri Lanka  Zimbabwe   DAS Gunaratne   TL Chatara   201        8   \n",
       "350896  Sri Lanka  Zimbabwe   DAS Gunaratne   TL Chatara   201        8   \n",
       "350897  Sri Lanka  Zimbabwe   DAS Gunaratne   TL Chatara   202        8   \n",
       "350898  Sri Lanka  Zimbabwe    PVD Chameera   TL Chatara   203        8   \n",
       "\n",
       "        overs  runs_last_5  wickets_last_5  striker  non-striker  total  \n",
       "0         0.1            0               0        0            0    301  \n",
       "1         0.2            0               0        0            0    301  \n",
       "2         0.3            4               0        0            0    301  \n",
       "3         0.4            6               0        0            0    301  \n",
       "4         0.5            6               0        0            0    301  \n",
       "...       ...          ...             ...      ...          ...    ...  \n",
       "350894   49.2           39               0       59           18    203  \n",
       "350895   49.3           39               0       59           18    203  \n",
       "350896   49.4           38               0       59           18    203  \n",
       "350897   49.5           38               0       59           18    203  \n",
       "350898   49.6           38               0       59           18    203  \n",
       "\n",
       "[350899 rows x 15 columns]"
      ]
     },
     "execution_count": 49,
     "metadata": {},
     "output_type": "execute_result"
    }
   ],
   "source": [
    "# Importing the dataset\n",
    "\n",
    "dataset = pd.read_csv('data/odi.csv')\n",
    "dataset"
   ]
  },
  {
   "cell_type": "code",
   "execution_count": 85,
   "metadata": {},
   "outputs": [],
   "source": [
    "X = dataset.iloc[:,[7,8,9,12,13]].values\n",
    "y = dataset.iloc[:, 14].values\n",
    "\n"
   ]
  },
  {
   "cell_type": "code",
   "execution_count": 86,
   "metadata": {},
   "outputs": [],
   "source": [
    "# Splitting the dataset into the Training set and Test set\n",
    "\n",
    "from sklearn.model_selection import train_test_split\n",
    "X_train, X_test, y_train, y_test = train_test_split(X, y, test_size = 0.25, random_state = 0)\n"
   ]
  },
  {
   "cell_type": "code",
   "execution_count": 87,
   "metadata": {},
   "outputs": [],
   "source": [
    "# Feature Scaling\n",
    "\n",
    "from sklearn.preprocessing import StandardScaler\n",
    "sc = StandardScaler()\n",
    "X_train = sc.fit_transform(X_train)\n",
    "X_test = sc.transform(X_test)"
   ]
  },
  {
   "cell_type": "markdown",
   "metadata": {},
   "source": [
    "## Using Linear Regression Model"
   ]
  },
  {
   "cell_type": "code",
   "execution_count": 88,
   "metadata": {},
   "outputs": [
    {
     "data": {
      "text/plain": [
       "LinearRegression(copy_X=True, fit_intercept=True, n_jobs=None, normalize=False)"
      ]
     },
     "execution_count": 88,
     "metadata": {},
     "output_type": "execute_result"
    }
   ],
   "source": [
    "from sklearn.linear_model import LinearRegression\n",
    "\n",
    "lr = LinearRegression()\n",
    "lr.fit(X_train,y_train)"
   ]
  },
  {
   "cell_type": "code",
   "execution_count": 89,
   "metadata": {},
   "outputs": [
    {
     "name": "stdout",
     "output_type": "stream",
     "text": [
      "R square value: 52.737657811129445\n",
      "MAE: 31.866131515248476\n",
      "MSE: 1836.896177811565\n",
      "RMSE: 42.85902679496543\n"
     ]
    }
   ],
   "source": [
    "# Predicting results & Testing the dataset on trained model\n",
    "\n",
    "\n",
    "y_pred = lr.predict(X_test)\n",
    "\n",
    "score = lr.score(X_test,y_test)*100\n",
    "print(\"R square value:\" , score)\n",
    "\n",
    "from sklearn import  metrics\n",
    "\n",
    "print('MAE:', metrics.mean_absolute_error(y_test, y_pred))\n",
    "print('MSE:', metrics.mean_squared_error(y_test, y_pred))\n",
    "print('RMSE:', np.sqrt(metrics.mean_squared_error(y_test, y_pred)))\n",
    "\n"
   ]
  },
  {
   "cell_type": "code",
   "execution_count": 90,
   "metadata": {},
   "outputs": [
    {
     "name": "stdout",
     "output_type": "stream",
     "text": [
      "Custom Accuracy: 43.354801937874036\n"
     ]
    }
   ],
   "source": [
    "def custom_accuracy(y_test,y_pred,thresold):\n",
    "    right = 0\n",
    "    l = len(y_pred)\n",
    "   \n",
    "    for i in range(l):\n",
    "        if(abs(y_pred[i]-y_test[i]) <= thresold):\n",
    "            right += 1\n",
    "    return ((right/l)*100)\n",
    "\n",
    "print(\"Custom Accuracy:\" , custom_accuracy(y_test,y_pred,20))"
   ]
  },
  {
   "cell_type": "code",
   "execution_count": 91,
   "metadata": {},
   "outputs": [
    {
     "data": {
      "text/plain": [
       "runs            201\n",
       "wickets           3\n",
       "overs          37.4\n",
       "striker         101\n",
       "non-striker      51\n",
       "total           301\n",
       "Name: 236, dtype: object"
      ]
     },
     "execution_count": 91,
     "metadata": {},
     "output_type": "execute_result"
    }
   ],
   "source": [
    "# Testing with a random input from dataset\n",
    "\n",
    "dataset.iloc[236][[7,8,9,12,13,14]]\n",
    "\n"
   ]
  },
  {
   "cell_type": "code",
   "execution_count": 92,
   "metadata": {},
   "outputs": [
    {
     "name": "stdout",
     "output_type": "stream",
     "text": [
      "Actual Score:  301\n",
      "Predicted score:  306.54748439289693\n"
     ]
    }
   ],
   "source": [
    "new_prediction = lr.predict(sc.transform(np.array([[201,3,37.4,101,51]]))) # from dataset.iloc[350894]\n",
    "print(\"Actual Score: \", dataset.iloc[236][14])\n",
    "print(\"Predicted score: \" , new_prediction[0])\n"
   ]
  },
  {
   "cell_type": "markdown",
   "metadata": {},
   "source": [
    "## Using Random Forest Regressor Model"
   ]
  },
  {
   "cell_type": "code",
   "execution_count": 93,
   "metadata": {},
   "outputs": [
    {
     "data": {
      "text/plain": [
       "RandomForestRegressor(bootstrap=True, ccp_alpha=0.0, criterion='mse',\n",
       "                      max_depth=None, max_features=None, max_leaf_nodes=None,\n",
       "                      max_samples=None, min_impurity_decrease=0.0,\n",
       "                      min_impurity_split=None, min_samples_leaf=1,\n",
       "                      min_samples_split=2, min_weight_fraction_leaf=0.0,\n",
       "                      n_estimators=100, n_jobs=None, oob_score=False,\n",
       "                      random_state=None, verbose=0, warm_start=False)"
      ]
     },
     "execution_count": 93,
     "metadata": {},
     "output_type": "execute_result"
    }
   ],
   "source": [
    "# Training the dataset\n",
    "\n",
    "from sklearn.ensemble import RandomForestRegressor\n",
    "reg = RandomForestRegressor(n_estimators=100,max_features=None)\n",
    "reg.fit(X_train,y_train)\n"
   ]
  },
  {
   "cell_type": "code",
   "execution_count": 94,
   "metadata": {},
   "outputs": [
    {
     "name": "stdout",
     "output_type": "stream",
     "text": [
      "R square value: 79.55768063060957\n",
      "MAE: 15.554082674933882\n",
      "MSE: 794.510313627221\n",
      "RMSE: 28.187059329189005\n"
     ]
    }
   ],
   "source": [
    "# Predicting results & Testing the dataset on trained model\n",
    "\n",
    "\n",
    "y_pred = reg.predict(X_test)\n",
    "\n",
    "score = reg.score(X_test,y_test)*100\n",
    "print(\"R square value:\" , score)\n",
    "\n",
    "from sklearn import  metrics\n",
    "\n",
    "print('MAE:', metrics.mean_absolute_error(y_test, y_pred))\n",
    "print('MSE:', metrics.mean_squared_error(y_test, y_pred))\n",
    "print('RMSE:', np.sqrt(metrics.mean_squared_error(y_test, y_pred)))\n"
   ]
  },
  {
   "cell_type": "code",
   "execution_count": 95,
   "metadata": {},
   "outputs": [
    {
     "name": "stdout",
     "output_type": "stream",
     "text": [
      "Custom Accuracy: 77.15018523795953\n"
     ]
    }
   ],
   "source": [
    "def custom_accuracy(y_test,y_pred,thresold):\n",
    "    right = 0\n",
    "    l = len(y_pred)\n",
    "   \n",
    "    for i in range(l):\n",
    "        if(abs(y_pred[i]-y_test[i]) <= thresold):\n",
    "            right += 1\n",
    "    return ((right/l)*100)\n",
    "\n",
    "print(\"Custom Accuracy:\" , custom_accuracy(y_test,y_pred,20))"
   ]
  },
  {
   "cell_type": "code",
   "execution_count": 96,
   "metadata": {},
   "outputs": [
    {
     "data": {
      "text/plain": [
       "runs            35\n",
       "wickets          1\n",
       "overs          6.2\n",
       "striker         22\n",
       "non-striker     11\n",
       "total          271\n",
       "Name: 354, dtype: object"
      ]
     },
     "execution_count": 96,
     "metadata": {},
     "output_type": "execute_result"
    }
   ],
   "source": [
    "# Testing with a random input from dataset\n",
    "\n",
    "import numpy as np\n",
    "\n",
    "dataset.iloc[354][[7,8,9,12,13,14]]\n",
    "\n"
   ]
  },
  {
   "cell_type": "code",
   "execution_count": 97,
   "metadata": {},
   "outputs": [
    {
     "name": "stdout",
     "output_type": "stream",
     "text": [
      "Actual Score:  271\n",
      "Predicted score:  287.295\n"
     ]
    }
   ],
   "source": [
    "new_prediction = reg.predict(sc.transform(np.array([[35,1,6.2,22,11]]))) # from dataset.iloc[350894]\n",
    "print(\"Actual Score: \", dataset.iloc[354][14])\n",
    "print(\"Predicted score: \" , new_prediction[0])\n"
   ]
  },
  {
   "cell_type": "markdown",
   "metadata": {},
   "source": [
    "## Comparing Results from both the models"
   ]
  },
  {
   "cell_type": "code",
   "execution_count": 98,
   "metadata": {},
   "outputs": [
    {
     "name": "stdout",
     "output_type": "stream",
     "text": [
      "Predicted score using Linear Regression Model:  285.54519002204455\n",
      "Predicted score using Random Forest Regressor Model:  247.08\n"
     ]
    }
   ],
   "source": [
    "# Testing with a custom input \n",
    "\n",
    "new_prediction = lr.predict(sc.transform(np.array([[130,2,24.3,73,16]]))) \n",
    "print(\"Predicted score using Linear Regression Model: \" , new_prediction[0])\n",
    "\n",
    "new_prediction = reg.predict(sc.transform(np.array([[130,2,24.3,73,16]]))) \n",
    "print(\"Predicted score using Random Forest Regressor Model: \" , new_prediction[0])\n",
    "\n",
    "\n"
   ]
  }
 ],
 "metadata": {
  "kernelspec": {
   "display_name": "Python 3",
   "language": "python",
   "name": "python3"
  },
  "language_info": {
   "codemirror_mode": {
    "name": "ipython",
    "version": 3
   },
   "file_extension": ".py",
   "mimetype": "text/x-python",
   "name": "python",
   "nbconvert_exporter": "python",
   "pygments_lexer": "ipython3",
   "version": "3.7.6"
  }
 },
 "nbformat": 4,
 "nbformat_minor": 4
}
